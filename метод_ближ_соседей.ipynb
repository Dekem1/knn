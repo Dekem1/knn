{
  "cells": [
    {
      "cell_type": "markdown",
      "metadata": {
        "id": "view-in-github",
        "colab_type": "text"
      },
      "source": [
        "<a href=\"https://colab.research.google.com/github/Dekem1/Study/blob/main/%D0%BC%D0%B5%D1%82%D0%BE%D0%B4_%D0%B1%D0%BB%D0%B8%D0%B6_%D1%81%D0%BE%D1%81%D0%B5%D0%B4%D0%B5%D0%B9.ipynb\" target=\"_parent\"><img src=\"https://colab.research.google.com/assets/colab-badge.svg\" alt=\"Open In Colab\"/></a>"
      ]
    },
    {
      "cell_type": "code",
      "execution_count": null,
      "metadata": {
        "id": "xZaB3qrbE80L"
      },
      "outputs": [],
      "source": [
        "#Скаллирование\n",
        "def scaler(matrix):\n",
        "  for j in range(len(matrix[0])):\n",
        "      min_in_fich=min(map(lambda x: x[j],matrix))\n",
        "\n",
        "      max_in_fich=max(map(lambda x: x[j],matrix))\n",
        "\n",
        "      for i in range(len(matrix)):\n",
        "      \n",
        "        matrix[i][j] = matrix[i][j]=(matrix[i][j]-min_in_fich)/(abs(max_in_fich-min_in_fich))\n",
        "      \n"
      ]
    },
    {
      "cell_type": "code",
      "execution_count": null,
      "metadata": {
        "id": "5MiKKfKRCyNl"
      },
      "outputs": [],
      "source": [
        "#Создание объекта для определения\n",
        "def new_object():\n",
        "  new_object=[]\n",
        "  print('Сколько вы спите?')\n",
        "  new_object.append(int(input()))\n",
        "  print('Вы работаете? (да - 1/нет - 0)')\n",
        "  new_object.append(int(input()))\n",
        "  print('Сколько вы весите?')\n",
        "  new_object.append(int(input()))\n",
        "  print('Какой у вас рост?')\n",
        "  new_object.append(int(input()))\n",
        "  print('Сколько часов вы тратите на дорогу до места учебы?')\n",
        "  new_object.append(float(input()))\n",
        "  print('Ваши родители предпочитают чай или кофе? (Ответ формата чч/чк/кч/кк)')\n",
        "  parents_preferences=(input())\n",
        "  if parents_preferences == 'чч':\n",
        "    parents_preferences = 0\n",
        "  elif parents_preferences == 'чк' or 'кч':\n",
        "    parents_preferences = 0.5\n",
        "  else: parents_preferences = 1\n",
        "  new_object.append(parents_preferences)\n",
        "  print('Введеный объект',new_object)\n",
        "  return(new_object)"
      ]
    },
    {
      "cell_type": "code",
      "execution_count": null,
      "metadata": {
        "id": "zCzABj3ox3Q8"
      },
      "outputs": [],
      "source": [
        "#Евклидовы расстояния для вводимого человека\n",
        "def euklid_rast(matrix,new_object):\n",
        "  \n",
        "  ret_rast_list=[]\n",
        "  for i in range(len(matrix)):\n",
        "    summ=0\n",
        "    for j in range(6):\n",
        "      summ=summ+(new_object[j]-matrix[i][j])**2\n",
        "    ret_rast_list.append(summ**(1/2))\n",
        "  return(ret_rast_list)"
      ]
    },
    {
      "cell_type": "code",
      "execution_count": null,
      "metadata": {
        "id": "GNmLjcanNlYC"
      },
      "outputs": [],
      "source": [
        "#Определяем близжайшиех соседей и их индексы\n",
        "def index_neighbors(k,rast):\n",
        "  buffer = rast.copy()\n",
        "  index_neighbors=[]\n",
        "\n",
        "  for i in range(k):\n",
        "    index_neighbors.append(buffer.index(min(buffer)))\n",
        "   \n",
        "    buffer[buffer.index(min(buffer))]=99999999999\n",
        "  return(index_neighbors)\n",
        "    \n",
        "\n"
      ]
    },
    {
      "cell_type": "code",
      "execution_count": null,
      "metadata": {
        "id": "ZKbNRIYETzUE"
      },
      "outputs": [],
      "source": [
        "#Определяем класс объекта по сумме расстояний соседей\n",
        "def opredelitel(matrix,new_object,index_neighbors,rast):\n",
        "  result=0\n",
        "  for i in index_neighbors:\n",
        "    result = result+rast[i]*matrix[i][-1]\n",
        "  if result > 0:\n",
        "    \n",
        "    print('--------------------------------------\\nВаш объект любит чай\\n--------------------------------------')\n",
        "    if len(new_object)<7: new_object.append(-1)\n",
        "    else: new_object[-1]=-1\n",
        "  \n",
        "  else:\n",
        "    \n",
        "    print('--------------------------------------\\nВаш объект любит кофе\\n--------------------------------------')\n",
        "    if len(new_object)<7: new_object.append(1)\n",
        "    else: new_object[-1]=1\n",
        "  return(new_object)"
      ]
    },
    {
      "cell_type": "code",
      "execution_count": null,
      "metadata": {
        "id": "vYsGXLZzcA_W"
      },
      "outputs": [],
      "source": [
        "               \n",
        "input_information = [\n",
        "                    [5,0,90,175,2,'kk','ch'], \n",
        "                    [5,1,82,172,0.8,'kch','ch'],\n",
        "                    [7,1,75,177,1,'kch','k'],\n",
        "                    [10,0,69,179,0.25,'chch','ch'],\n",
        "                    [5,1,100,180,2,'chch','ch'],\n",
        "                    [8,0,67,170,2,'kk','ch'],\n",
        "                    [6,1,65,179,1.5,'kch','k'],\n",
        "                    [8,0,88,187,0.17,'kk','ch'],\n",
        "                    [6,0,103,184,1,'chch','ch'],\n",
        "                    [8,1,85,195,0.666,'kk','k'],\n",
        "                    [7,0,62,170,1,'chch','ch'],\n",
        "                    [7,0,70,175,1,'kk','k'],\n",
        "                    [7,0,55,168,1,'kk','k'],\n",
        "                    [7,1,65,178,1,'chch','ch'],\n",
        "                    [8,0,82,190,1.5,'kk','k'],\n",
        "                    [6,1,51,150,1.5,'chch','k'],\n",
        "                    [3,1,82,176,1.5,'kk','ch'],\n",
        "                    [5,0,70,177,1,'kk','k'],\n",
        "                    [9,0,67,172,1.5,'chch','k']\n",
        "                    ]"
      ]
    },
    {
      "cell_type": "code",
      "execution_count": null,
      "metadata": {
        "id": "8w7yuDWphpxf"
      },
      "outputs": [],
      "source": [
        "#Предобработка значений\n",
        "for i in range(len(input_information)):\n",
        "  for x in [-1,-2]:\n",
        "    if input_information[i][x] == 'ch':\n",
        "      input_information[i][x] = -1\n",
        "    elif input_information[i][x] == 'k':\n",
        "      input_information[i][x] = 1\n",
        "    elif input_information[i][x] == 'kk':\n",
        "      input_information[i][x] = 1\n",
        "    elif input_information[i][x] == 'chch':\n",
        "      input_information[i][x] = 0\n",
        "    else: input_information[i][x] = 0.5\n",
        "\n"
      ]
    },
    {
      "cell_type": "code",
      "execution_count": null,
      "metadata": {
        "colab": {
          "base_uri": "https://localhost:8080/"
        },
        "id": "cX7hMcdlp2I3",
        "outputId": "955cf203-5c50-4e0c-8557-f835e4ab5231"
      },
      "outputs": [
        {
          "name": "stdout",
          "output_type": "stream",
          "text": [
            "Сколько вы спите?\n"
          ]
        }
      ],
      "source": [
        "#СОЗДАНИЕ НОВОГО КЛАССА\n",
        "created_obj = new_object()"
      ]
    },
    {
      "cell_type": "code",
      "execution_count": null,
      "metadata": {
        "id": "kE9w4jdYaDFD"
      },
      "outputs": [],
      "source": [
        "def KNN_by_OLEG(k):\n",
        "  \n",
        "  created_obj = new_object()\n",
        "  rast = euklid_rast(input_information,created_obj)\n",
        "  index_neighbors_created = index_neighbors(k,rast)\n",
        "  opredelitel(input_information,created_obj,index_neighbors_created,rast)\n",
        "\n",
        "def KNN_by_OLEG_BEZ_SOZDANIA(k,created_obj):\n",
        "\n",
        "  \n",
        "  rast = euklid_rast(input_information,created_obj)\n",
        "\n",
        "  index_neighbors_created = index_neighbors(k,rast)\n",
        "\n",
        "  opredelitel(input_information,created_obj,index_neighbors_created,rast)"
      ]
    },
    {
      "cell_type": "code",
      "execution_count": null,
      "metadata": {
        "colab": {
          "background_save": true
        },
        "id": "Q--Ae6mZh7MB",
        "outputId": "52f62d59-6eb9-4147-ae66-3d809476c148"
      },
      "outputs": [
        {
          "ename": "NameError",
          "evalue": "ignored",
          "output_type": "error",
          "traceback": [
            "\u001b[0;31m---------------------------------------------------------------------------\u001b[0m",
            "\u001b[0;31mNameError\u001b[0m                                 Traceback (most recent call last)",
            "\u001b[0;32m<ipython-input-1-c4a903994e6a>\u001b[0m in \u001b[0;36m<module>\u001b[0;34m\u001b[0m\n\u001b[0;32m----> 1\u001b[0;31m \u001b[0mKNN_by_OLEG_BEZ_SOZDANIA\u001b[0m\u001b[0;34m(\u001b[0m\u001b[0;36m1\u001b[0m\u001b[0;34m,\u001b[0m\u001b[0mcreated_obj\u001b[0m\u001b[0;34m)\u001b[0m\u001b[0;34m\u001b[0m\u001b[0;34m\u001b[0m\u001b[0m\n\u001b[0m",
            "\u001b[0;31mNameError\u001b[0m: name 'KNN_by_OLEG_BEZ_SOZDANIA' is not defined"
          ]
        }
      ],
      "source": [
        "KNN_by_OLEG_BEZ_SOZDANIA(1,created_obj)"
      ]
    }
  ],
  "metadata": {
    "colab": {
      "collapsed_sections": [],
      "provenance": [],
      "authorship_tag": "ABX9TyN3JsKtTJ53VM4QZ+Ptoxzc",
      "include_colab_link": true
    },
    "kernelspec": {
      "display_name": "Python 3",
      "name": "python3"
    },
    "language_info": {
      "name": "python"
    }
  },
  "nbformat": 4,
  "nbformat_minor": 0
}